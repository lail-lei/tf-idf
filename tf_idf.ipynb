{
  "nbformat": 4,
  "nbformat_minor": 0,
  "metadata": {
    "colab": {
      "name": "tf-idf.ipynb",
      "provenance": [],
      "collapsed_sections": [],
      "authorship_tag": "ABX9TyOSXmccbRDQya9JFZHpaYg4",
      "include_colab_link": true
    },
    "kernelspec": {
      "name": "python3",
      "display_name": "Python 3"
    },
    "language_info": {
      "name": "python"
    }
  },
  "cells": [
    {
      "cell_type": "markdown",
      "metadata": {
        "id": "view-in-github",
        "colab_type": "text"
      },
      "source": [
        "<a href=\"https://colab.research.google.com/github/lail-lei/tf-idf/blob/main/tf_idf.ipynb\" target=\"_parent\"><img src=\"https://colab.research.google.com/assets/colab-badge.svg\" alt=\"Open In Colab\"/></a>"
      ]
    },
    {
      "cell_type": "code",
      "metadata": {
        "id": "LCD3rU4QETnc"
      },
      "source": [
        "# first, import our libraries \n",
        "import pandas as pd\n",
        "\n",
        "# need for importing text files from github\n",
        "import requests\n",
        "\n",
        "# Using regex\n",
        "import re"
      ],
      "execution_count": 4,
      "outputs": []
    },
    {
      "cell_type": "code",
      "metadata": {
        "id": "pTGb_iP8Ehn4"
      },
      "source": [
        "# simple, sample documents\n",
        "documentA = requests.get(\"https://raw.githubusercontent.com/lail-lei/tf-idf/main/hip_to_be_square.txt\").text\n",
        "documentB = requests.get(\"https://raw.githubusercontent.com/lail-lei/tf-idf/main/still_alive.txt\").text\n",
        "documentC = requests.get(\"https://raw.githubusercontent.com/lail-lei/tf-idf/main/wonderful_world_sam_cooke.txt\").text"
      ],
      "execution_count": 5,
      "outputs": []
    },
    {
      "cell_type": "code",
      "metadata": {
        "id": "6aivW8n7G8sY"
      },
      "source": [
        "# helper function to process source document before indexing \n",
        "def tokenize (src):\n",
        "  # similar to the standard tokenizer in elasticsearch, this function \n",
        "  # lowercases the document, removes punctutaion, and breaks words up on whitespaces \n",
        "  # stemming and synonyms would go here \n",
        "  return re.sub(r'[^\\w\\s]', '', src.lower()).split()\n",
        "\n",
        "\n",
        "\n",
        "class document ():\n",
        "\n",
        "  document = None\n",
        "  tokenized_document = None\n",
        "  inverted_index = None \n",
        "  term_frequency_index = None\n",
        "\n",
        "  # helper function to create inverted index\n",
        "  def invert (self):\n",
        "    index = {}\n",
        "    # populate dictionary with frequency of specific document's words\n",
        "    for word in self.tokenized_document:\n",
        "      frequency = index.get(word, 0)\n",
        "      index[word] = frequency + 1\n",
        "    return index\n",
        "\n",
        "  # helper function to create term frequency index\n",
        "  def tf (self):\n",
        "    index = {}\n",
        "    totalNumberOfWords = len(self.tokenized_document)\n",
        "    for word, count in self.inverted_index.items():\n",
        "      index[word] = count / float(totalNumberOfWords)\n",
        "    self.term_frequency_index = index\n",
        "    \n",
        "  # constructor\n",
        "  def __init__(self, document):\n",
        "    self.document = document\n",
        "    self.tokenized_document = tokenize(document)\n",
        "    self.inverted_index = self.invert()\n",
        "    self.tf()\n",
        "  \n",
        "\n",
        "class searchEngine ():\n",
        "\n",
        "  # a list of all documents in search engine \n",
        "  documets = None\n",
        "\n",
        "  # an index containing the log of the number of documents \n",
        "  # divided by the number of documents that contain each specific word\n",
        "  inverse_document_frequency_index = None\n",
        "\n",
        "  # a data frame containing the TF-IDF scores for all the words in the engine\n",
        "  data_frame = None\n",
        "\n",
        "  # constructor\n",
        "  def __init__(self):\n",
        "    self.documents = []\n",
        "\n",
        "  # compute the idf score across all documents in the corpus \n",
        "  def computeIDF(self):\n",
        "    import math\n",
        "    N = len(self.documents)\n",
        "    index = {}\n",
        "    # store the frequencies of all words across all documents (global frequency)\n",
        "    for document in self.documents:\n",
        "        for word, frequency in document.term_frequency_index.items():\n",
        "            # if word occurs\n",
        "            if frequency > 0:\n",
        "              # get previous count if exists\n",
        "              global_frequency = index.get(word, 0)\n",
        "              # increment count \n",
        "              index[word] = global_frequency + 1\n",
        "    for word, global_frequency in index.items():\n",
        "        # perform log of  (#documents/over the global frequency)\n",
        "        index[word] = math.log(N / float(global_frequency))\n",
        "    self.inverse_document_frequency_index = index;\n",
        "\n",
        "  # compute the tfidf score for all words in a document \n",
        "  def computeTFIDF(self, document):\n",
        "    index = {}\n",
        "    for word, frequency in document.term_frequency_index.items():\n",
        "        # tf / idf \n",
        "        index[word] = frequency * self.inverse_document_frequency_index[word]\n",
        "    return index\n",
        "\n",
        "  # store the tfdif values for all documents in the corpus\n",
        "  def createDataFrame (self):\n",
        "    data = []\n",
        "    for document in self.documents:\n",
        "      index = self.computeTFIDF(document)\n",
        "      data.append(index)\n",
        "    self.data_frame = pd.DataFrame(data=data).fillna(0)\n",
        "\n",
        "  # adds document to search engine\n",
        "  def index (self, document): \n",
        "    # add document to documents list\n",
        "    self.documents.append(document)\n",
        "    # compute new idf (optimize later)\n",
        "    self.computeIDF()\n",
        "    # create data frame\n",
        "    self.createDataFrame()\n",
        "\n",
        "  # look up the tfidf score\n",
        "  def lookup_tfidf (self, keyword):\n",
        "    # return empty list if keyword doesn't exist in any document\n",
        "    if keyword not in self.data_frame.columns:\n",
        "      return []\n",
        "    # get the rows (documents) in which the keyword exists\n",
        "    rows = self.data_frame.index[self.data_frame[keyword] > 0].tolist()\n",
        "    data = []\n",
        "    # look up the scores for each row \n",
        "    for row in rows:\n",
        "      score = self.data_frame.iloc[row][keyword]\n",
        "      data.append({\"id\": row, \"document\": self.documents[row].document, \"score\": score})\n",
        "    return data\n",
        "    \n",
        "  # combine duplictes/sum scores, and order according to relevancy \n",
        "  def process_results (self, lookup_list):\n",
        "    results = {}\n",
        "    # combine duplicates\n",
        "    for item in lookup_list:\n",
        "      if str(item[\"id\"]) not in results:\n",
        "        results[str(item[\"id\"])] = item \n",
        "      else:\n",
        "        results[str(item[\"id\"])][\"score\"] += item[\"score\"]\n",
        "    results = results.values()\n",
        "    # order in descending order \n",
        "    return sorted(results, key=lambda x: x[\"score\"], reverse=True)\n",
        "         \n",
        "\n",
        "  # search! \n",
        "  def search (self, keyword):\n",
        "    # process keyword into tokens \n",
        "    search_tokens = tokenize(keyword)\n",
        "    # query the data frame\n",
        "    results = []\n",
        "    for token in search_tokens:\n",
        "     lookup_list = self.lookup_tfidf(token)\n",
        "     for item in lookup_list:\n",
        "       results.append(item)\n",
        "    return self.process_results(results)\n",
        "  \n"
      ],
      "execution_count": 1,
      "outputs": []
    },
    {
      "cell_type": "code",
      "metadata": {
        "id": "NcsDvnREtG5L"
      },
      "source": [
        "# create sample engine\n",
        "songs = searchEngine()\n",
        "\n",
        "hip = document(documentA)\n",
        "still = document(documentB)\n",
        "world = document(documentC)\n",
        "\n",
        "songs.index(hip)\n",
        "songs.index(still)\n",
        "songs.index(world)\n"
      ],
      "execution_count": 6,
      "outputs": []
    },
    {
      "cell_type": "code",
      "metadata": {
        "colab": {
          "base_uri": "https://localhost:8080/"
        },
        "id": "Nrwaeo_yrBl7",
        "outputId": "7b912a35-2939-40ca-e5a6-0b2051e58a35"
      },
      "source": [
        "songs.search(\"aperture science\")"
      ],
      "execution_count": 7,
      "outputs": [
        {
          "output_type": "execute_result",
          "data": {
            "text/plain": [
              "[{'document': \"This was a triumph\\nI'm making a note here\\nHuge success\\nIt's hard to overstate my satisfaction\\nAperture Science\\nWe do what we must because we can\\nFor the good of all of us\\nExcept the ones who are dead\\nBut there's no sense crying over every mistake\\nYou just keep on trying 'til you run out of cake\\nAnd the science gets done and you make a neat gun\\nFor the people who are still alive\\nI'm not even angry\\nI'm being so sincere right now\\nEven though you broke my heart and killed me\\nTore me to pieces\\nAnd threw every piece into a fire\\nAs they burned it hurt because\\nI was so happy for you\\nNow these points of data make a beautiful line\\nAnd we're out of beta, we're releasing on time\\nSo I'm glad I got burned\\nThink of all the things we learned\\nFor the people who are still alive\\nSo go ahead and leave me\\nI think I prefer to stay inside\\nMaybe you'll find someone else to help you\\nMaybe Black Mesa\\nThat was a joke, haha, fat chance\\nAnyway, this cake is great\\nIt's so delicious and moist\\nLook at me still talking when there's science to do\\nWhen I look out there it makes me glad I'm not you\\nI've experiments to run, there is research to be done\\nOn the people who are still alive\\nAnd believe me I am still alive\\nI'm doing science and I'm still alive\\nI feel fantastic and I'm still alive\\nAnd while you're dying I'll be still alive\\nAnd when you're dead I will be still alive\\nStill alive\\nStill alive\",\n",
              "  'id': 1,\n",
              "  'score': 0.009750798283515294},\n",
              " {'document': \"Don't know much about history\\nDon't know much biology\\nDon't know much about a science book\\nDon't know much about the French I took\\nBut I do know that I love you\\nAnd I know that if you love me, too\\nWhat a wonderful world this would be\\nDon't know much about geography\\nDon't know much trigonometry\\nDon't know much about algebra\\nDon't know what a slide rule is for\\nBut I do know one and one is two\\nAnd if this one could be with you\\nWhat a wonderful world this would be\\nNow, I don't claim to be an A student\\nBut I'm trying to be\\nFor maybe by being an A student, baby\\nI can win your love for me\\nDon't know much about history\\nDon't know much biology\\nDon't know much about a science book\\nDon't know much about the French I took\\nBut I do know that I love you\\nAnd I know that if you love me, too\\nWhat a wonderful world this would be\\nLatatatatata ah\\nHistory (Mmmm)\\nBiology (Well a-tatatatata)\\nScience book (Mmmm)\\nFrench I took, yeah\\nBut I do know that I love you\\nAnd I know that if you love me, too\\nWhat a wonderful world this would be\",\n",
              "  'id': 2,\n",
              "  'score': 0.005820073322126761}]"
            ]
          },
          "metadata": {
            "tags": []
          },
          "execution_count": 7
        }
      ]
    },
    {
      "cell_type": "code",
      "metadata": {
        "colab": {
          "base_uri": "https://localhost:8080/"
        },
        "id": "TahNXC9a_Yk4",
        "outputId": "4c6b6d6c-ee38-4e1c-8efc-f1a7cd217c87"
      },
      "source": [
        "songs.search(\"science book\")"
      ],
      "execution_count": 8,
      "outputs": [
        {
          "output_type": "execute_result",
          "data": {
            "text/plain": [
              "[{'document': \"Don't know much about history\\nDon't know much biology\\nDon't know much about a science book\\nDon't know much about the French I took\\nBut I do know that I love you\\nAnd I know that if you love me, too\\nWhat a wonderful world this would be\\nDon't know much about geography\\nDon't know much trigonometry\\nDon't know much about algebra\\nDon't know what a slide rule is for\\nBut I do know one and one is two\\nAnd if this one could be with you\\nWhat a wonderful world this would be\\nNow, I don't claim to be an A student\\nBut I'm trying to be\\nFor maybe by being an A student, baby\\nI can win your love for me\\nDon't know much about history\\nDon't know much biology\\nDon't know much about a science book\\nDon't know much about the French I took\\nBut I do know that I love you\\nAnd I know that if you love me, too\\nWhat a wonderful world this would be\\nLatatatatata ah\\nHistory (Mmmm)\\nBiology (Well a-tatatatata)\\nScience book (Mmmm)\\nFrench I took, yeah\\nBut I do know that I love you\\nAnd I know that if you love me, too\\nWhat a wonderful world this would be\",\n",
              "  'id': 2,\n",
              "  'score': 0.021589627704922596},\n",
              " {'document': \"This was a triumph\\nI'm making a note here\\nHuge success\\nIt's hard to overstate my satisfaction\\nAperture Science\\nWe do what we must because we can\\nFor the good of all of us\\nExcept the ones who are dead\\nBut there's no sense crying over every mistake\\nYou just keep on trying 'til you run out of cake\\nAnd the science gets done and you make a neat gun\\nFor the people who are still alive\\nI'm not even angry\\nI'm being so sincere right now\\nEven though you broke my heart and killed me\\nTore me to pieces\\nAnd threw every piece into a fire\\nAs they burned it hurt because\\nI was so happy for you\\nNow these points of data make a beautiful line\\nAnd we're out of beta, we're releasing on time\\nSo I'm glad I got burned\\nThink of all the things we learned\\nFor the people who are still alive\\nSo go ahead and leave me\\nI think I prefer to stay inside\\nMaybe you'll find someone else to help you\\nMaybe Black Mesa\\nThat was a joke, haha, fat chance\\nAnyway, this cake is great\\nIt's so delicious and moist\\nLook at me still talking when there's science to do\\nWhen I look out there it makes me glad I'm not you\\nI've experiments to run, there is research to be done\\nOn the people who are still alive\\nAnd believe me I am still alive\\nI'm doing science and I'm still alive\\nI feel fantastic and I'm still alive\\nAnd while you're dying I'll be still alive\\nAnd when you're dead I will be still alive\\nStill alive\\nStill alive\",\n",
              "  'id': 1,\n",
              "  'score': 0.005813119829507733}]"
            ]
          },
          "metadata": {
            "tags": []
          },
          "execution_count": 8
        }
      ]
    },
    {
      "cell_type": "code",
      "metadata": {
        "colab": {
          "base_uri": "https://localhost:8080/"
        },
        "id": "Be3tk5tg_tRk",
        "outputId": "549c60bc-5070-485e-df25-82e84d27b77d"
      },
      "source": [
        "songs.search(\"square book\")"
      ],
      "execution_count": 9,
      "outputs": [
        {
          "output_type": "execute_result",
          "data": {
            "text/plain": [
              "[{'document': \"I used to be a renegade\\nI used to fool around\\nBut I couldn't take the punishment\\nAnd had to settle down\\nNow I'm playing it real straight\\nAnd yes, I cut my hair\\nYou might think I'm crazy\\nBut I don't even care\\nBecause I can tell what's going on\\nIt's hip to be square\\nIt's hip to be square\\nI like my bands in business suits\\nI watch them on TV\\nI'm working out most every day\\nAnd watchin' what I eat\\nThey tell me that it's good for me\\nBut I don't even care\\nI know that it's crazy\\nI know that it's nowhere\\nBut there is no denying that\\nIt's hip to be square\\nIt's hip to be square\\nIt's hip to be square\\nSo hip to be square\\nIt's not too hard to figure out\\nYou see it every day\\nAnd those that were the farthest out\\nHave gone the other way\\nYou see them on the freeway\\nIt don't look like a lot of fun\\nBut don't you try to fight it\\nAn idea whose time has come\\nDon't tell me that I'm crazy\\nDon't tell me I'm nowhere\\nTake it from me\\nIt's hip to be square\\nIt's hip to be square\\nIt's hip to be square\\nSo hip to be square\\nTell 'em, boys\\n(Here, there, and everywhere)\\n(Hip, hip, so hip to be a square)\\n(Here, there, and everywhere)\\n(Hip, hip)\\n(Here, there, and everywhere)\\n(Hip, hip, so hip to be a square)\\n(Here, there, and everywhere)\\n(Hip, hip)\\n(Here, there, and everywhere)\\n(Hip, hip, so hip to be a square)\\n(Here, there, and everywhere)\\n(Hip, hip)\\n(Here, there, and everywhere)\\n(Hip, hip, so hip to be a square)\\n(Here, there, and everywhere)\\nSo hip to be square\\n(Hip, hip)\\n(Here, there, and everywhere)\\n\",\n",
              "  'id': 0,\n",
              "  'score': 0.054386746963767815},\n",
              " {'document': \"Don't know much about history\\nDon't know much biology\\nDon't know much about a science book\\nDon't know much about the French I took\\nBut I do know that I love you\\nAnd I know that if you love me, too\\nWhat a wonderful world this would be\\nDon't know much about geography\\nDon't know much trigonometry\\nDon't know much about algebra\\nDon't know what a slide rule is for\\nBut I do know one and one is two\\nAnd if this one could be with you\\nWhat a wonderful world this would be\\nNow, I don't claim to be an A student\\nBut I'm trying to be\\nFor maybe by being an A student, baby\\nI can win your love for me\\nDon't know much about history\\nDon't know much biology\\nDon't know much about a science book\\nDon't know much about the French I took\\nBut I do know that I love you\\nAnd I know that if you love me, too\\nWhat a wonderful world this would be\\nLatatatatata ah\\nHistory (Mmmm)\\nBiology (Well a-tatatatata)\\nScience book (Mmmm)\\nFrench I took, yeah\\nBut I do know that I love you\\nAnd I know that if you love me, too\\nWhat a wonderful world this would be\",\n",
              "  'id': 2,\n",
              "  'score': 0.015769554382795835}]"
            ]
          },
          "metadata": {
            "tags": []
          },
          "execution_count": 9
        }
      ]
    },
    {
      "cell_type": "code",
      "metadata": {
        "colab": {
          "base_uri": "https://localhost:8080/"
        },
        "id": "kb7jsX7Z_wmU",
        "outputId": "1a5b1ff7-57ec-4b15-bf74-d952746c3538"
      },
      "source": [
        "songs.search(\"hair\")"
      ],
      "execution_count": 13,
      "outputs": [
        {
          "output_type": "execute_result",
          "data": {
            "text/plain": [
              "[{'document': \"I used to be a renegade\\nI used to fool around\\nBut I couldn't take the punishment\\nAnd had to settle down\\nNow I'm playing it real straight\\nAnd yes, I cut my hair\\nYou might think I'm crazy\\nBut I don't even care\\nBecause I can tell what's going on\\nIt's hip to be square\\nIt's hip to be square\\nI like my bands in business suits\\nI watch them on TV\\nI'm working out most every day\\nAnd watchin' what I eat\\nThey tell me that it's good for me\\nBut I don't even care\\nI know that it's crazy\\nI know that it's nowhere\\nBut there is no denying that\\nIt's hip to be square\\nIt's hip to be square\\nIt's hip to be square\\nSo hip to be square\\nIt's not too hard to figure out\\nYou see it every day\\nAnd those that were the farthest out\\nHave gone the other way\\nYou see them on the freeway\\nIt don't look like a lot of fun\\nBut don't you try to fight it\\nAn idea whose time has come\\nDon't tell me that I'm crazy\\nDon't tell me I'm nowhere\\nTake it from me\\nIt's hip to be square\\nIt's hip to be square\\nIt's hip to be square\\nSo hip to be square\\nTell 'em, boys\\n(Here, there, and everywhere)\\n(Hip, hip, so hip to be a square)\\n(Here, there, and everywhere)\\n(Hip, hip)\\n(Here, there, and everywhere)\\n(Hip, hip, so hip to be a square)\\n(Here, there, and everywhere)\\n(Hip, hip)\\n(Here, there, and everywhere)\\n(Hip, hip, so hip to be a square)\\n(Here, there, and everywhere)\\n(Hip, hip)\\n(Here, there, and everywhere)\\n(Hip, hip, so hip to be a square)\\n(Here, there, and everywhere)\\nSo hip to be square\\n(Hip, hip)\\n(Here, there, and everywhere)\\n\",\n",
              "  'id': 0,\n",
              "  'score': 0.0036257831309178543}]"
            ]
          },
          "metadata": {
            "tags": []
          },
          "execution_count": 13
        }
      ]
    },
    {
      "cell_type": "code",
      "metadata": {
        "id": "fThpupjMCvGC"
      },
      "source": [
        "# let's import another sample document\n",
        "documentD = requests.get(\"https://raw.githubusercontent.com/lail-lei/tf-idf/main/cooking_by_the_book.txt\").text"
      ],
      "execution_count": null,
      "outputs": []
    },
    {
      "cell_type": "code",
      "metadata": {
        "id": "FwLxM0j-C5gW"
      },
      "source": [
        "# now let's create a new search engine document and index it \n",
        "cook = document(documentD)\n",
        "songs.index(cook)"
      ],
      "execution_count": null,
      "outputs": []
    },
    {
      "cell_type": "code",
      "metadata": {
        "colab": {
          "base_uri": "https://localhost:8080/"
        },
        "id": "z6PGQQIWEH7a",
        "outputId": "6406c95f-8fbd-4f9c-ab7f-f434d1f3cef4"
      },
      "source": [
        "songs.search(\"cooking\")"
      ],
      "execution_count": null,
      "outputs": [
        {
          "output_type": "execute_result",
          "data": {
            "text/plain": [
              "[{'document': \"I'll pile on the candy\\nIt's such a pretty sight\\nIt makes the food taste a dandy\\nBut my tummy hurts all night\\nI'll put in some ingredients\\nBut keep the rest for me\\nI'm not just disobedient\\nI'm careful can't you see\\n\\nIt's a piece of cake to bake a pretty cake\\nIf you're way is hazy\\nYou gotta do the cooking by the book\\nYou know you can't be lazy\\nNever use a messy recipe\\nYour cake may end up crazy\\nIf you do the cooking by the book\\nThen you'll have a cake\\nWe gotta have it made\\nYou know that I love cake\\nFinally it's time to make a cake\\n\\nMaking food is just like science\\nWith tools that blend and baste\\nAnd every fun appliance gives the food a different taste\\n\\nIt's a piece of cake to bake a pretty cake\\nIf you're way is hazy\\nYou gotta do the cooking by the book\\nYou know you can't be lazy\\nNever use a messy recipe\\nYour cake may end up crazy\\nIf you do the cooking by the book\\nThen you'll have a cake\\nWe gotta have it made\\nYou know that I love cake\\nFinally it's time to make a cake\\nWe gotta have it made\\nYou know that I love cake\\nFinally it's time to make a\\nYou gotta do the cooking by the book\\nCake!\",\n",
              "  'id': 3,\n",
              "  'score': 0.029748806032615677}]"
            ]
          },
          "metadata": {
            "tags": []
          },
          "execution_count": 216
        }
      ]
    },
    {
      "cell_type": "code",
      "metadata": {
        "colab": {
          "base_uri": "https://localhost:8080/"
        },
        "id": "sWOhR27sJlu7",
        "outputId": "3c1253cc-7688-4527-f42e-2779ddca16f6"
      },
      "source": [
        "songs.search(\"cake\")"
      ],
      "execution_count": null,
      "outputs": [
        {
          "output_type": "execute_result",
          "data": {
            "text/plain": [
              "[{'document': \"I'll pile on the candy\\nIt's such a pretty sight\\nIt makes the food taste a dandy\\nBut my tummy hurts all night\\nI'll put in some ingredients\\nBut keep the rest for me\\nI'm not just disobedient\\nI'm careful can't you see\\n\\nIt's a piece of cake to bake a pretty cake\\nIf you're way is hazy\\nYou gotta do the cooking by the book\\nYou know you can't be lazy\\nNever use a messy recipe\\nYour cake may end up crazy\\nIf you do the cooking by the book\\nThen you'll have a cake\\nWe gotta have it made\\nYou know that I love cake\\nFinally it's time to make a cake\\n\\nMaking food is just like science\\nWith tools that blend and baste\\nAnd every fun appliance gives the food a different taste\\n\\nIt's a piece of cake to bake a pretty cake\\nIf you're way is hazy\\nYou gotta do the cooking by the book\\nYou know you can't be lazy\\nNever use a messy recipe\\nYour cake may end up crazy\\nIf you do the cooking by the book\\nThen you'll have a cake\\nWe gotta have it made\\nYou know that I love cake\\nFinally it's time to make a cake\\nWe gotta have it made\\nYou know that I love cake\\nFinally it's time to make a\\nYou gotta do the cooking by the book\\nCake!\",\n",
              "  'id': 3,\n",
              "  'score': 0.04164832844566195},\n",
              " {'document': \"This was a triumph\\nI'm making a note here\\nHuge success\\nIt's hard to overstate my satisfaction\\nAperture Science\\nWe do what we must because we can\\nFor the good of all of us\\nExcept the ones who are dead\\nBut there's no sense crying over every mistake\\nYou just keep on trying 'til you run out of cake\\nAnd the science gets done and you make a neat gun\\nFor the people who are still alive\\nI'm not even angry\\nI'm being so sincere right now\\nEven though you broke my heart and killed me\\nTore me to pieces\\nAnd threw every piece into a fire\\nAs they burned it hurt because\\nI was so happy for you\\nNow these points of data make a beautiful line\\nAnd we're out of beta, we're releasing on time\\nSo I'm glad I got burned\\nThink of all the things we learned\\nFor the people who are still alive\\nSo go ahead and leave me\\nI think I prefer to stay inside\\nMaybe you'll find someone else to help you\\nMaybe Black Mesa\\nThat was a joke, haha, fat chance\\nAnyway, this cake is great\\nIt's so delicious and moist\\nLook at me still talking when there's science to do\\nWhen I look out there it makes me glad I'm not you\\nI've experiments to run, there is research to be done\\nOn the people who are still alive\\nAnd believe me I am still alive\\nI'm doing science and I'm still alive\\nI feel fantastic and I'm still alive\\nAnd while you're dying I'll be still alive\\nAnd when you're dead I will be still alive\\nStill alive\\nStill alive\",\n",
              "  'id': 1,\n",
              "  'score': 0.004968796993261256}]"
            ]
          },
          "metadata": {
            "tags": []
          },
          "execution_count": 217
        }
      ]
    },
    {
      "cell_type": "code",
      "metadata": {
        "colab": {
          "base_uri": "https://localhost:8080/"
        },
        "id": "bVrXOG5NFRea",
        "outputId": "43b5386c-16d9-4471-d999-fe3be19a9452"
      },
      "source": [
        "songs.search(\"all\")"
      ],
      "execution_count": null,
      "outputs": [
        {
          "output_type": "execute_result",
          "data": {
            "text/plain": [
              "[{'document': \"This was a triumph\\nI'm making a note here\\nHuge success\\nIt's hard to overstate my satisfaction\\nAperture Science\\nWe do what we must because we can\\nFor the good of all of us\\nExcept the ones who are dead\\nBut there's no sense crying over every mistake\\nYou just keep on trying 'til you run out of cake\\nAnd the science gets done and you make a neat gun\\nFor the people who are still alive\\nI'm not even angry\\nI'm being so sincere right now\\nEven though you broke my heart and killed me\\nTore me to pieces\\nAnd threw every piece into a fire\\nAs they burned it hurt because\\nI was so happy for you\\nNow these points of data make a beautiful line\\nAnd we're out of beta, we're releasing on time\\nSo I'm glad I got burned\\nThink of all the things we learned\\nFor the people who are still alive\\nSo go ahead and leave me\\nI think I prefer to stay inside\\nMaybe you'll find someone else to help you\\nMaybe Black Mesa\\nThat was a joke, haha, fat chance\\nAnyway, this cake is great\\nIt's so delicious and moist\\nLook at me still talking when there's science to do\\nWhen I look out there it makes me glad I'm not you\\nI've experiments to run, there is research to be done\\nOn the people who are still alive\\nAnd believe me I am still alive\\nI'm doing science and I'm still alive\\nI feel fantastic and I'm still alive\\nAnd while you're dying I'll be still alive\\nAnd when you're dead I will be still alive\\nStill alive\\nStill alive\",\n",
              "  'id': 1,\n",
              "  'score': 0.004968796993261256},\n",
              " {'document': \"I'll pile on the candy\\nIt's such a pretty sight\\nIt makes the food taste a dandy\\nBut my tummy hurts all night\\nI'll put in some ingredients\\nBut keep the rest for me\\nI'm not just disobedient\\nI'm careful can't you see\\n\\nIt's a piece of cake to bake a pretty cake\\nIf you're way is hazy\\nYou gotta do the cooking by the book\\nYou know you can't be lazy\\nNever use a messy recipe\\nYour cake may end up crazy\\nIf you do the cooking by the book\\nThen you'll have a cake\\nWe gotta have it made\\nYou know that I love cake\\nFinally it's time to make a cake\\n\\nMaking food is just like science\\nWith tools that blend and baste\\nAnd every fun appliance gives the food a different taste\\n\\nIt's a piece of cake to bake a pretty cake\\nIf you're way is hazy\\nYou gotta do the cooking by the book\\nYou know you can't be lazy\\nNever use a messy recipe\\nYour cake may end up crazy\\nIf you do the cooking by the book\\nThen you'll have a cake\\nWe gotta have it made\\nYou know that I love cake\\nFinally it's time to make a cake\\nWe gotta have it made\\nYou know that I love cake\\nFinally it's time to make a\\nYou gotta do the cooking by the book\\nCake!\",\n",
              "  'id': 3,\n",
              "  'score': 0.002974880603261568}]"
            ]
          },
          "metadata": {
            "tags": []
          },
          "execution_count": 218
        }
      ]
    },
    {
      "cell_type": "code",
      "metadata": {
        "id": "Erk5YNgFiyTO",
        "outputId": "71adfa67-778b-4c7a-93ef-f0342d1ec26c",
        "colab": {
          "base_uri": "https://localhost:8080/",
          "height": 191
        }
      },
      "source": [
        "songs.data_frame"
      ],
      "execution_count": 12,
      "outputs": [
        {
          "output_type": "execute_result",
          "data": {
            "text/html": [
              "<div>\n",
              "<style scoped>\n",
              "    .dataframe tbody tr th:only-of-type {\n",
              "        vertical-align: middle;\n",
              "    }\n",
              "\n",
              "    .dataframe tbody tr th {\n",
              "        vertical-align: top;\n",
              "    }\n",
              "\n",
              "    .dataframe thead th {\n",
              "        text-align: right;\n",
              "    }\n",
              "</style>\n",
              "<table border=\"1\" class=\"dataframe\">\n",
              "  <thead>\n",
              "    <tr style=\"text-align: right;\">\n",
              "      <th></th>\n",
              "      <th>i</th>\n",
              "      <th>used</th>\n",
              "      <th>to</th>\n",
              "      <th>be</th>\n",
              "      <th>a</th>\n",
              "      <th>renegade</th>\n",
              "      <th>fool</th>\n",
              "      <th>around</th>\n",
              "      <th>but</th>\n",
              "      <th>couldnt</th>\n",
              "      <th>take</th>\n",
              "      <th>the</th>\n",
              "      <th>punishment</th>\n",
              "      <th>and</th>\n",
              "      <th>had</th>\n",
              "      <th>settle</th>\n",
              "      <th>down</th>\n",
              "      <th>now</th>\n",
              "      <th>im</th>\n",
              "      <th>playing</th>\n",
              "      <th>it</th>\n",
              "      <th>real</th>\n",
              "      <th>straight</th>\n",
              "      <th>yes</th>\n",
              "      <th>cut</th>\n",
              "      <th>my</th>\n",
              "      <th>hair</th>\n",
              "      <th>you</th>\n",
              "      <th>might</th>\n",
              "      <th>think</th>\n",
              "      <th>crazy</th>\n",
              "      <th>dont</th>\n",
              "      <th>even</th>\n",
              "      <th>care</th>\n",
              "      <th>because</th>\n",
              "      <th>can</th>\n",
              "      <th>tell</th>\n",
              "      <th>whats</th>\n",
              "      <th>going</th>\n",
              "      <th>on</th>\n",
              "      <th>...</th>\n",
              "      <th>feel</th>\n",
              "      <th>fantastic</th>\n",
              "      <th>while</th>\n",
              "      <th>youre</th>\n",
              "      <th>dying</th>\n",
              "      <th>ill</th>\n",
              "      <th>will</th>\n",
              "      <th>much</th>\n",
              "      <th>about</th>\n",
              "      <th>history</th>\n",
              "      <th>biology</th>\n",
              "      <th>book</th>\n",
              "      <th>french</th>\n",
              "      <th>took</th>\n",
              "      <th>love</th>\n",
              "      <th>if</th>\n",
              "      <th>wonderful</th>\n",
              "      <th>world</th>\n",
              "      <th>would</th>\n",
              "      <th>geography</th>\n",
              "      <th>trigonometry</th>\n",
              "      <th>algebra</th>\n",
              "      <th>slide</th>\n",
              "      <th>rule</th>\n",
              "      <th>one</th>\n",
              "      <th>two</th>\n",
              "      <th>could</th>\n",
              "      <th>with</th>\n",
              "      <th>claim</th>\n",
              "      <th>student</th>\n",
              "      <th>by</th>\n",
              "      <th>baby</th>\n",
              "      <th>win</th>\n",
              "      <th>your</th>\n",
              "      <th>latatatatata</th>\n",
              "      <th>ah</th>\n",
              "      <th>mmmm</th>\n",
              "      <th>well</th>\n",
              "      <th>atatatatata</th>\n",
              "      <th>yeah</th>\n",
              "    </tr>\n",
              "  </thead>\n",
              "  <tbody>\n",
              "    <tr>\n",
              "      <th>0</th>\n",
              "      <td>0.0</td>\n",
              "      <td>0.007252</td>\n",
              "      <td>0.0</td>\n",
              "      <td>0.0</td>\n",
              "      <td>0.0</td>\n",
              "      <td>0.003626</td>\n",
              "      <td>0.003626</td>\n",
              "      <td>0.003626</td>\n",
              "      <td>0.0</td>\n",
              "      <td>0.003626</td>\n",
              "      <td>0.007252</td>\n",
              "      <td>0.0</td>\n",
              "      <td>0.003626</td>\n",
              "      <td>0.0</td>\n",
              "      <td>0.003626</td>\n",
              "      <td>0.003626</td>\n",
              "      <td>0.003626</td>\n",
              "      <td>0.0</td>\n",
              "      <td>0.0</td>\n",
              "      <td>0.003626</td>\n",
              "      <td>0.006691</td>\n",
              "      <td>0.003626</td>\n",
              "      <td>0.003626</td>\n",
              "      <td>0.003626</td>\n",
              "      <td>0.003626</td>\n",
              "      <td>0.002676</td>\n",
              "      <td>0.003626</td>\n",
              "      <td>0.0</td>\n",
              "      <td>0.003626</td>\n",
              "      <td>0.001338</td>\n",
              "      <td>0.010877</td>\n",
              "      <td>0.008029</td>\n",
              "      <td>0.002676</td>\n",
              "      <td>0.007252</td>\n",
              "      <td>0.001338</td>\n",
              "      <td>0.0</td>\n",
              "      <td>0.018129</td>\n",
              "      <td>0.003626</td>\n",
              "      <td>0.003626</td>\n",
              "      <td>0.004015</td>\n",
              "      <td>...</td>\n",
              "      <td>0.000000</td>\n",
              "      <td>0.000000</td>\n",
              "      <td>0.000000</td>\n",
              "      <td>0.000000</td>\n",
              "      <td>0.000000</td>\n",
              "      <td>0.000000</td>\n",
              "      <td>0.000000</td>\n",
              "      <td>0.000000</td>\n",
              "      <td>0.000000</td>\n",
              "      <td>0.00000</td>\n",
              "      <td>0.00000</td>\n",
              "      <td>0.00000</td>\n",
              "      <td>0.00000</td>\n",
              "      <td>0.00000</td>\n",
              "      <td>0.000000</td>\n",
              "      <td>0.000000</td>\n",
              "      <td>0.000000</td>\n",
              "      <td>0.000000</td>\n",
              "      <td>0.000000</td>\n",
              "      <td>0.000000</td>\n",
              "      <td>0.000000</td>\n",
              "      <td>0.000000</td>\n",
              "      <td>0.000000</td>\n",
              "      <td>0.000000</td>\n",
              "      <td>0.00000</td>\n",
              "      <td>0.000000</td>\n",
              "      <td>0.000000</td>\n",
              "      <td>0.000000</td>\n",
              "      <td>0.000000</td>\n",
              "      <td>0.000000</td>\n",
              "      <td>0.000000</td>\n",
              "      <td>0.000000</td>\n",
              "      <td>0.000000</td>\n",
              "      <td>0.000000</td>\n",
              "      <td>0.000000</td>\n",
              "      <td>0.000000</td>\n",
              "      <td>0.000000</td>\n",
              "      <td>0.000000</td>\n",
              "      <td>0.000000</td>\n",
              "      <td>0.000000</td>\n",
              "    </tr>\n",
              "    <tr>\n",
              "      <th>1</th>\n",
              "      <td>0.0</td>\n",
              "      <td>0.000000</td>\n",
              "      <td>0.0</td>\n",
              "      <td>0.0</td>\n",
              "      <td>0.0</td>\n",
              "      <td>0.000000</td>\n",
              "      <td>0.000000</td>\n",
              "      <td>0.000000</td>\n",
              "      <td>0.0</td>\n",
              "      <td>0.000000</td>\n",
              "      <td>0.000000</td>\n",
              "      <td>0.0</td>\n",
              "      <td>0.000000</td>\n",
              "      <td>0.0</td>\n",
              "      <td>0.000000</td>\n",
              "      <td>0.000000</td>\n",
              "      <td>0.000000</td>\n",
              "      <td>0.0</td>\n",
              "      <td>0.0</td>\n",
              "      <td>0.000000</td>\n",
              "      <td>0.002907</td>\n",
              "      <td>0.000000</td>\n",
              "      <td>0.000000</td>\n",
              "      <td>0.000000</td>\n",
              "      <td>0.000000</td>\n",
              "      <td>0.002907</td>\n",
              "      <td>0.000000</td>\n",
              "      <td>0.0</td>\n",
              "      <td>0.000000</td>\n",
              "      <td>0.002907</td>\n",
              "      <td>0.000000</td>\n",
              "      <td>0.000000</td>\n",
              "      <td>0.002907</td>\n",
              "      <td>0.000000</td>\n",
              "      <td>0.002907</td>\n",
              "      <td>0.0</td>\n",
              "      <td>0.000000</td>\n",
              "      <td>0.000000</td>\n",
              "      <td>0.000000</td>\n",
              "      <td>0.004360</td>\n",
              "      <td>...</td>\n",
              "      <td>0.003938</td>\n",
              "      <td>0.003938</td>\n",
              "      <td>0.003938</td>\n",
              "      <td>0.007875</td>\n",
              "      <td>0.003938</td>\n",
              "      <td>0.003938</td>\n",
              "      <td>0.003938</td>\n",
              "      <td>0.000000</td>\n",
              "      <td>0.000000</td>\n",
              "      <td>0.00000</td>\n",
              "      <td>0.00000</td>\n",
              "      <td>0.00000</td>\n",
              "      <td>0.00000</td>\n",
              "      <td>0.00000</td>\n",
              "      <td>0.000000</td>\n",
              "      <td>0.000000</td>\n",
              "      <td>0.000000</td>\n",
              "      <td>0.000000</td>\n",
              "      <td>0.000000</td>\n",
              "      <td>0.000000</td>\n",
              "      <td>0.000000</td>\n",
              "      <td>0.000000</td>\n",
              "      <td>0.000000</td>\n",
              "      <td>0.000000</td>\n",
              "      <td>0.00000</td>\n",
              "      <td>0.000000</td>\n",
              "      <td>0.000000</td>\n",
              "      <td>0.000000</td>\n",
              "      <td>0.000000</td>\n",
              "      <td>0.000000</td>\n",
              "      <td>0.000000</td>\n",
              "      <td>0.000000</td>\n",
              "      <td>0.000000</td>\n",
              "      <td>0.000000</td>\n",
              "      <td>0.000000</td>\n",
              "      <td>0.000000</td>\n",
              "      <td>0.000000</td>\n",
              "      <td>0.000000</td>\n",
              "      <td>0.000000</td>\n",
              "      <td>0.000000</td>\n",
              "    </tr>\n",
              "    <tr>\n",
              "      <th>2</th>\n",
              "      <td>0.0</td>\n",
              "      <td>0.000000</td>\n",
              "      <td>0.0</td>\n",
              "      <td>0.0</td>\n",
              "      <td>0.0</td>\n",
              "      <td>0.000000</td>\n",
              "      <td>0.000000</td>\n",
              "      <td>0.000000</td>\n",
              "      <td>0.0</td>\n",
              "      <td>0.000000</td>\n",
              "      <td>0.000000</td>\n",
              "      <td>0.0</td>\n",
              "      <td>0.000000</td>\n",
              "      <td>0.0</td>\n",
              "      <td>0.000000</td>\n",
              "      <td>0.000000</td>\n",
              "      <td>0.000000</td>\n",
              "      <td>0.0</td>\n",
              "      <td>0.0</td>\n",
              "      <td>0.000000</td>\n",
              "      <td>0.000000</td>\n",
              "      <td>0.000000</td>\n",
              "      <td>0.000000</td>\n",
              "      <td>0.000000</td>\n",
              "      <td>0.000000</td>\n",
              "      <td>0.000000</td>\n",
              "      <td>0.000000</td>\n",
              "      <td>0.0</td>\n",
              "      <td>0.000000</td>\n",
              "      <td>0.000000</td>\n",
              "      <td>0.000000</td>\n",
              "      <td>0.025220</td>\n",
              "      <td>0.000000</td>\n",
              "      <td>0.000000</td>\n",
              "      <td>0.000000</td>\n",
              "      <td>0.0</td>\n",
              "      <td>0.000000</td>\n",
              "      <td>0.000000</td>\n",
              "      <td>0.000000</td>\n",
              "      <td>0.000000</td>\n",
              "      <td>...</td>\n",
              "      <td>0.000000</td>\n",
              "      <td>0.000000</td>\n",
              "      <td>0.000000</td>\n",
              "      <td>0.000000</td>\n",
              "      <td>0.000000</td>\n",
              "      <td>0.000000</td>\n",
              "      <td>0.000000</td>\n",
              "      <td>0.057822</td>\n",
              "      <td>0.042052</td>\n",
              "      <td>0.01577</td>\n",
              "      <td>0.01577</td>\n",
              "      <td>0.01577</td>\n",
              "      <td>0.01577</td>\n",
              "      <td>0.01577</td>\n",
              "      <td>0.036796</td>\n",
              "      <td>0.021026</td>\n",
              "      <td>0.021026</td>\n",
              "      <td>0.021026</td>\n",
              "      <td>0.021026</td>\n",
              "      <td>0.005257</td>\n",
              "      <td>0.005257</td>\n",
              "      <td>0.005257</td>\n",
              "      <td>0.005257</td>\n",
              "      <td>0.005257</td>\n",
              "      <td>0.01577</td>\n",
              "      <td>0.005257</td>\n",
              "      <td>0.005257</td>\n",
              "      <td>0.005257</td>\n",
              "      <td>0.005257</td>\n",
              "      <td>0.010513</td>\n",
              "      <td>0.005257</td>\n",
              "      <td>0.005257</td>\n",
              "      <td>0.005257</td>\n",
              "      <td>0.005257</td>\n",
              "      <td>0.005257</td>\n",
              "      <td>0.005257</td>\n",
              "      <td>0.010513</td>\n",
              "      <td>0.005257</td>\n",
              "      <td>0.005257</td>\n",
              "      <td>0.005257</td>\n",
              "    </tr>\n",
              "  </tbody>\n",
              "</table>\n",
              "<p>3 rows × 242 columns</p>\n",
              "</div>"
            ],
            "text/plain": [
              "     i      used   to   be  ...      mmmm      well  atatatatata      yeah\n",
              "0  0.0  0.007252  0.0  0.0  ...  0.000000  0.000000     0.000000  0.000000\n",
              "1  0.0  0.000000  0.0  0.0  ...  0.000000  0.000000     0.000000  0.000000\n",
              "2  0.0  0.000000  0.0  0.0  ...  0.010513  0.005257     0.005257  0.005257\n",
              "\n",
              "[3 rows x 242 columns]"
            ]
          },
          "metadata": {
            "tags": []
          },
          "execution_count": 12
        }
      ]
    }
  ]
}